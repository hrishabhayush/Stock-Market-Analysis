{
 "cells": [
  {
   "cell_type": "code",
   "execution_count": 1,
   "id": "7cfcb5b3",
   "metadata": {
    "execution": {
     "iopub.execute_input": "2023-11-05T21:54:18.636144Z",
     "iopub.status.busy": "2023-11-05T21:54:18.635786Z",
     "iopub.status.idle": "2023-11-05T21:54:23.825635Z",
     "shell.execute_reply": "2023-11-05T21:54:23.824703Z"
    },
    "papermill": {
     "duration": 5.196356,
     "end_time": "2023-11-05T21:54:23.828359",
     "exception": false,
     "start_time": "2023-11-05T21:54:18.632003",
     "status": "completed"
    },
    "tags": []
   },
   "outputs": [
    {
     "data": {
      "text/html": [
       "        <script type=\"text/javascript\">\n",
       "        window.PlotlyConfig = {MathJaxConfig: 'local'};\n",
       "        if (window.MathJax && window.MathJax.Hub && window.MathJax.Hub.Config) {window.MathJax.Hub.Config({SVG: {font: \"STIX-Web\"}});}\n",
       "        if (typeof require !== 'undefined') {\n",
       "        require.undef(\"plotly\");\n",
       "        requirejs.config({\n",
       "            paths: {\n",
       "                'plotly': ['https://cdn.plot.ly/plotly-2.24.1.min']\n",
       "            }\n",
       "        });\n",
       "        require(['plotly'], function(Plotly) {\n",
       "            window._Plotly = Plotly;\n",
       "        });\n",
       "        }\n",
       "        </script>\n",
       "        "
      ]
     },
     "metadata": {},
     "output_type": "display_data"
    }
   ],
   "source": [
    "import warnings, gc\n",
    "import numpy as np \n",
    "import pandas as pd\n",
    "import matplotlib.colors\n",
    "import seaborn as sns\n",
    "import plotly.express as px\n",
    "import plotly.graph_objects as go\n",
    "from plotly.subplots import make_subplots\n",
    "from plotly.offline import init_notebook_mode\n",
    "from datetime import datetime, timedelta\n",
    "from sklearn.model_selection import TimeSeriesSplit\n",
    "from sklearn.metrics import mean_squared_error,mean_absolute_error\n",
    "from lightgbm import LGBMRegressor\n",
    "from decimal import ROUND_HALF_UP, Decimal\n",
    "warnings.filterwarnings(\"ignore\")\n",
    "import plotly.figure_factory as ff\n",
    "\n",
    "init_notebook_mode(connected=True)\n",
    "temp = dict(layout=go.Layout(font=dict(family=\"Franklin Gothic\", size=12), width=800))\n",
    "colors=px.colors.qualitative.Plotly\n",
    "\n",
    "#train=pd.read_csv(\"../input/jpx-tokyo-stock-exchange-prediction/train_files/stock_prices.csv\", parse_dates=['Date'])\n",
    "#stock_list=pd.read_csv(\"../input/jpx-tokyo-stock-exchange-prediction/stock_list.csv\")\n",
    "\n",
    "#print(\"The training data begins on {} and ends on {}.\\n\".format(train.Date.min(),train.Date.max()))\n",
    "#display(train.describe().style.format('{:,.2f}'))"
   ]
  },
  {
   "cell_type": "markdown",
   "id": "0410f0ca",
   "metadata": {
    "papermill": {
     "duration": 0.001712,
     "end_time": "2023-11-05T21:54:23.834290",
     "exception": false,
     "start_time": "2023-11-05T21:54:23.832578",
     "status": "completed"
    },
    "tags": []
   },
   "source": []
  }
 ],
 "metadata": {
  "kernelspec": {
   "display_name": "Python 3",
   "language": "python",
   "name": "python3"
  },
  "language_info": {
   "codemirror_mode": {
    "name": "ipython",
    "version": 3
   },
   "file_extension": ".py",
   "mimetype": "text/x-python",
   "name": "python",
   "nbconvert_exporter": "python",
   "pygments_lexer": "ipython3",
   "version": "3.10.12"
  },
  "papermill": {
   "default_parameters": {},
   "duration": 9.515937,
   "end_time": "2023-11-05T21:54:24.658265",
   "environment_variables": {},
   "exception": null,
   "input_path": "__notebook__.ipynb",
   "output_path": "__notebook__.ipynb",
   "parameters": {},
   "start_time": "2023-11-05T21:54:15.142328",
   "version": "2.4.0"
  }
 },
 "nbformat": 4,
 "nbformat_minor": 5
}
